{
 "cells": [
  {
   "cell_type": "code",
   "execution_count": 4,
   "metadata": {},
   "outputs": [],
   "source": [
    "from src.tune_rf_ntree import tune_ntree_rf\n",
    "from src.ntree_random_forest import Ntree_RF_Classifier, Ntree_RF_Regressor\n",
    "from sklearn.datasets import make_regression, make_classification\n",
    "import numpy as np"
   ]
  },
  {
   "cell_type": "markdown",
   "metadata": {},
   "source": [
    "# 1. Classification"
   ]
  },
  {
   "cell_type": "code",
   "execution_count": 5,
   "metadata": {},
   "outputs": [
    {
     "data": {
      "text/html": [
       "<style>#sk-container-id-1 {color: black;background-color: white;}#sk-container-id-1 pre{padding: 0;}#sk-container-id-1 div.sk-toggleable {background-color: white;}#sk-container-id-1 label.sk-toggleable__label {cursor: pointer;display: block;width: 100%;margin-bottom: 0;padding: 0.3em;box-sizing: border-box;text-align: center;}#sk-container-id-1 label.sk-toggleable__label-arrow:before {content: \"▸\";float: left;margin-right: 0.25em;color: #696969;}#sk-container-id-1 label.sk-toggleable__label-arrow:hover:before {color: black;}#sk-container-id-1 div.sk-estimator:hover label.sk-toggleable__label-arrow:before {color: black;}#sk-container-id-1 div.sk-toggleable__content {max-height: 0;max-width: 0;overflow: hidden;text-align: left;background-color: #f0f8ff;}#sk-container-id-1 div.sk-toggleable__content pre {margin: 0.2em;color: black;border-radius: 0.25em;background-color: #f0f8ff;}#sk-container-id-1 input.sk-toggleable__control:checked~div.sk-toggleable__content {max-height: 200px;max-width: 100%;overflow: auto;}#sk-container-id-1 input.sk-toggleable__control:checked~label.sk-toggleable__label-arrow:before {content: \"▾\";}#sk-container-id-1 div.sk-estimator input.sk-toggleable__control:checked~label.sk-toggleable__label {background-color: #d4ebff;}#sk-container-id-1 div.sk-label input.sk-toggleable__control:checked~label.sk-toggleable__label {background-color: #d4ebff;}#sk-container-id-1 input.sk-hidden--visually {border: 0;clip: rect(1px 1px 1px 1px);clip: rect(1px, 1px, 1px, 1px);height: 1px;margin: -1px;overflow: hidden;padding: 0;position: absolute;width: 1px;}#sk-container-id-1 div.sk-estimator {font-family: monospace;background-color: #f0f8ff;border: 1px dotted black;border-radius: 0.25em;box-sizing: border-box;margin-bottom: 0.5em;}#sk-container-id-1 div.sk-estimator:hover {background-color: #d4ebff;}#sk-container-id-1 div.sk-parallel-item::after {content: \"\";width: 100%;border-bottom: 1px solid gray;flex-grow: 1;}#sk-container-id-1 div.sk-label:hover label.sk-toggleable__label {background-color: #d4ebff;}#sk-container-id-1 div.sk-serial::before {content: \"\";position: absolute;border-left: 1px solid gray;box-sizing: border-box;top: 0;bottom: 0;left: 50%;z-index: 0;}#sk-container-id-1 div.sk-serial {display: flex;flex-direction: column;align-items: center;background-color: white;padding-right: 0.2em;padding-left: 0.2em;position: relative;}#sk-container-id-1 div.sk-item {position: relative;z-index: 1;}#sk-container-id-1 div.sk-parallel {display: flex;align-items: stretch;justify-content: center;background-color: white;position: relative;}#sk-container-id-1 div.sk-item::before, #sk-container-id-1 div.sk-parallel-item::before {content: \"\";position: absolute;border-left: 1px solid gray;box-sizing: border-box;top: 0;bottom: 0;left: 50%;z-index: -1;}#sk-container-id-1 div.sk-parallel-item {display: flex;flex-direction: column;z-index: 1;position: relative;background-color: white;}#sk-container-id-1 div.sk-parallel-item:first-child::after {align-self: flex-end;width: 50%;}#sk-container-id-1 div.sk-parallel-item:last-child::after {align-self: flex-start;width: 50%;}#sk-container-id-1 div.sk-parallel-item:only-child::after {width: 0;}#sk-container-id-1 div.sk-dashed-wrapped {border: 1px dashed gray;margin: 0 0.4em 0.5em 0.4em;box-sizing: border-box;padding-bottom: 0.4em;background-color: white;}#sk-container-id-1 div.sk-label label {font-family: monospace;font-weight: bold;display: inline-block;line-height: 1.2em;}#sk-container-id-1 div.sk-label-container {text-align: center;}#sk-container-id-1 div.sk-container {/* jupyter's `normalize.less` sets `[hidden] { display: none; }` but bootstrap.min.css set `[hidden] { display: none !important; }` so we also need the `!important` here to be able to override the default hidden behavior on the sphinx rendered scikit-learn.org. See: https://github.com/scikit-learn/scikit-learn/issues/21755 */display: inline-block !important;position: relative;}#sk-container-id-1 div.sk-text-repr-fallback {display: none;}</style><div id=\"sk-container-id-1\" class=\"sk-top-container\"><div class=\"sk-text-repr-fallback\"><pre>Ntree_RF_Classifier()</pre><b>In a Jupyter environment, please rerun this cell to show the HTML representation or trust the notebook. <br />On GitHub, the HTML representation is unable to render, please try loading this page with nbviewer.org.</b></div><div class=\"sk-container\" hidden><div class=\"sk-item\"><div class=\"sk-estimator sk-toggleable\"><input class=\"sk-toggleable__control sk-hidden--visually\" id=\"sk-estimator-id-1\" type=\"checkbox\" checked><label for=\"sk-estimator-id-1\" class=\"sk-toggleable__label sk-toggleable__label-arrow\">Ntree_RF_Classifier</label><div class=\"sk-toggleable__content\"><pre>Ntree_RF_Classifier()</pre></div></div></div></div></div>"
      ],
      "text/plain": [
       "Ntree_RF_Classifier()"
      ]
     },
     "execution_count": 5,
     "metadata": {},
     "output_type": "execute_result"
    }
   ],
   "source": [
    "Xcls, ycls = make_classification(n_samples=200, n_features=20, n_classes=3, random_state=42, n_clusters_per_class=3, n_informative=5)\n",
    "rf_cls = Ntree_RF_Classifier(n_estimators=100)\n",
    "rf_cls.fit(Xcls, ycls)"
   ]
  },
  {
   "cell_type": "code",
   "execution_count": 7,
   "metadata": {},
   "outputs": [
    {
     "name": "stderr",
     "output_type": "stream",
     "text": [
      "/Users/ariz/Documents/Hiwi/ntree_random_forests/src/tune_rf_ntree.py:98: UserWarning: Some inputs do not have OOB scores. This probably means too few trees were used to compute any reliable OOB estimates.\n",
      "  warn(\n",
      "/Users/ariz/Documents/Hiwi/ntree_random_forests/src/tune_rf_ntree.py:98: UserWarning: Some inputs do not have OOB scores. This probably means too few trees were used to compute any reliable OOB estimates.\n",
      "  warn(\n",
      "/Users/ariz/Documents/Hiwi/ntree_random_forests/src/tune_rf_ntree.py:98: UserWarning: Some inputs do not have OOB scores. This probably means too few trees were used to compute any reliable OOB estimates.\n",
      "  warn(\n",
      "/Users/ariz/Documents/Hiwi/ntree_random_forests/src/tune_rf_ntree.py:98: UserWarning: Some inputs do not have OOB scores. This probably means too few trees were used to compute any reliable OOB estimates.\n",
      "  warn(\n",
      "/Users/ariz/Documents/Hiwi/ntree_random_forests/src/tune_rf_ntree.py:98: UserWarning: Some inputs do not have OOB scores. This probably means too few trees were used to compute any reliable OOB estimates.\n",
      "  warn(\n",
      "/Users/ariz/Documents/Hiwi/ntree_random_forests/src/tune_rf_ntree.py:98: UserWarning: Some inputs do not have OOB scores. This probably means too few trees were used to compute any reliable OOB estimates.\n",
      "  warn(\n",
      "/Users/ariz/Documents/Hiwi/ntree_random_forests/src/tune_rf_ntree.py:98: UserWarning: Some inputs do not have OOB scores. This probably means too few trees were used to compute any reliable OOB estimates.\n",
      "  warn(\n",
      "/Users/ariz/Documents/Hiwi/ntree_random_forests/src/tune_rf_ntree.py:98: UserWarning: Some inputs do not have OOB scores. This probably means too few trees were used to compute any reliable OOB estimates.\n",
      "  warn(\n",
      "/Users/ariz/Documents/Hiwi/ntree_random_forests/src/tune_rf_ntree.py:98: UserWarning: Some inputs do not have OOB scores. This probably means too few trees were used to compute any reliable OOB estimates.\n",
      "  warn(\n",
      "/Users/ariz/Documents/Hiwi/ntree_random_forests/src/tune_rf_ntree.py:98: UserWarning: Some inputs do not have OOB scores. This probably means too few trees were used to compute any reliable OOB estimates.\n",
      "  warn(\n",
      "/Users/ariz/Documents/Hiwi/ntree_random_forests/src/tune_rf_ntree.py:98: UserWarning: Some inputs do not have OOB scores. This probably means too few trees were used to compute any reliable OOB estimates.\n",
      "  warn(\n",
      "/Users/ariz/Documents/Hiwi/ntree_random_forests/src/tune_rf_ntree.py:98: UserWarning: Some inputs do not have OOB scores. This probably means too few trees were used to compute any reliable OOB estimates.\n",
      "  warn(\n"
     ]
    },
    {
     "data": {
      "text/plain": [
       "{1: 0.625,\n",
       " 2: 0.605,\n",
       " 3: 0.625,\n",
       " 4: 0.605,\n",
       " 5: 0.585,\n",
       " 6: 0.565,\n",
       " 7: 0.615,\n",
       " 8: 0.595,\n",
       " 9: 0.5549999999999999,\n",
       " 10: 0.5700000000000001,\n",
       " 11: 0.575,\n",
       " 12: 0.54,\n",
       " 13: 0.53,\n",
       " 14: 0.52,\n",
       " 15: 0.515,\n",
       " 16: 0.5,\n",
       " 17: 0.53,\n",
       " 18: 0.53,\n",
       " 19: 0.54,\n",
       " 20: 0.52,\n",
       " 21: 0.515,\n",
       " 22: 0.53,\n",
       " 23: 0.54,\n",
       " 24: 0.5449999999999999,\n",
       " 25: 0.5349999999999999,\n",
       " 26: 0.56,\n",
       " 27: 0.56,\n",
       " 28: 0.55,\n",
       " 29: 0.5449999999999999,\n",
       " 30: 0.55,\n",
       " 31: 0.5449999999999999,\n",
       " 32: 0.5349999999999999,\n",
       " 33: 0.5449999999999999,\n",
       " 34: 0.52,\n",
       " 35: 0.525,\n",
       " 36: 0.52,\n",
       " 37: 0.515,\n",
       " 38: 0.515,\n",
       " 39: 0.505,\n",
       " 40: 0.51,\n",
       " 41: 0.515,\n",
       " 42: 0.515,\n",
       " 43: 0.5,\n",
       " 44: 0.5,\n",
       " 45: 0.495,\n",
       " 46: 0.5,\n",
       " 47: 0.495,\n",
       " 48: 0.485,\n",
       " 49: 0.48,\n",
       " 50: 0.46499999999999997,\n",
       " 51: 0.46499999999999997,\n",
       " 52: 0.46499999999999997,\n",
       " 53: 0.45499999999999996,\n",
       " 54: 0.45999999999999996,\n",
       " 55: 0.45999999999999996,\n",
       " 56: 0.46499999999999997,\n",
       " 57: 0.45999999999999996,\n",
       " 58: 0.45999999999999996,\n",
       " 59: 0.45999999999999996,\n",
       " 60: 0.45999999999999996}"
      ]
     },
     "execution_count": 7,
     "metadata": {},
     "output_type": "execute_result"
    }
   ],
   "source": [
    "max_trees = 60\n",
    "tune_ntree_rf(rf_cls, max_trees, Xcls, ycls)"
   ]
  },
  {
   "cell_type": "markdown",
   "metadata": {},
   "source": [
    "# 2. Regression"
   ]
  },
  {
   "cell_type": "code",
   "execution_count": 8,
   "metadata": {},
   "outputs": [
    {
     "data": {
      "text/html": [
       "<style>#sk-container-id-2 {color: black;background-color: white;}#sk-container-id-2 pre{padding: 0;}#sk-container-id-2 div.sk-toggleable {background-color: white;}#sk-container-id-2 label.sk-toggleable__label {cursor: pointer;display: block;width: 100%;margin-bottom: 0;padding: 0.3em;box-sizing: border-box;text-align: center;}#sk-container-id-2 label.sk-toggleable__label-arrow:before {content: \"▸\";float: left;margin-right: 0.25em;color: #696969;}#sk-container-id-2 label.sk-toggleable__label-arrow:hover:before {color: black;}#sk-container-id-2 div.sk-estimator:hover label.sk-toggleable__label-arrow:before {color: black;}#sk-container-id-2 div.sk-toggleable__content {max-height: 0;max-width: 0;overflow: hidden;text-align: left;background-color: #f0f8ff;}#sk-container-id-2 div.sk-toggleable__content pre {margin: 0.2em;color: black;border-radius: 0.25em;background-color: #f0f8ff;}#sk-container-id-2 input.sk-toggleable__control:checked~div.sk-toggleable__content {max-height: 200px;max-width: 100%;overflow: auto;}#sk-container-id-2 input.sk-toggleable__control:checked~label.sk-toggleable__label-arrow:before {content: \"▾\";}#sk-container-id-2 div.sk-estimator input.sk-toggleable__control:checked~label.sk-toggleable__label {background-color: #d4ebff;}#sk-container-id-2 div.sk-label input.sk-toggleable__control:checked~label.sk-toggleable__label {background-color: #d4ebff;}#sk-container-id-2 input.sk-hidden--visually {border: 0;clip: rect(1px 1px 1px 1px);clip: rect(1px, 1px, 1px, 1px);height: 1px;margin: -1px;overflow: hidden;padding: 0;position: absolute;width: 1px;}#sk-container-id-2 div.sk-estimator {font-family: monospace;background-color: #f0f8ff;border: 1px dotted black;border-radius: 0.25em;box-sizing: border-box;margin-bottom: 0.5em;}#sk-container-id-2 div.sk-estimator:hover {background-color: #d4ebff;}#sk-container-id-2 div.sk-parallel-item::after {content: \"\";width: 100%;border-bottom: 1px solid gray;flex-grow: 1;}#sk-container-id-2 div.sk-label:hover label.sk-toggleable__label {background-color: #d4ebff;}#sk-container-id-2 div.sk-serial::before {content: \"\";position: absolute;border-left: 1px solid gray;box-sizing: border-box;top: 0;bottom: 0;left: 50%;z-index: 0;}#sk-container-id-2 div.sk-serial {display: flex;flex-direction: column;align-items: center;background-color: white;padding-right: 0.2em;padding-left: 0.2em;position: relative;}#sk-container-id-2 div.sk-item {position: relative;z-index: 1;}#sk-container-id-2 div.sk-parallel {display: flex;align-items: stretch;justify-content: center;background-color: white;position: relative;}#sk-container-id-2 div.sk-item::before, #sk-container-id-2 div.sk-parallel-item::before {content: \"\";position: absolute;border-left: 1px solid gray;box-sizing: border-box;top: 0;bottom: 0;left: 50%;z-index: -1;}#sk-container-id-2 div.sk-parallel-item {display: flex;flex-direction: column;z-index: 1;position: relative;background-color: white;}#sk-container-id-2 div.sk-parallel-item:first-child::after {align-self: flex-end;width: 50%;}#sk-container-id-2 div.sk-parallel-item:last-child::after {align-self: flex-start;width: 50%;}#sk-container-id-2 div.sk-parallel-item:only-child::after {width: 0;}#sk-container-id-2 div.sk-dashed-wrapped {border: 1px dashed gray;margin: 0 0.4em 0.5em 0.4em;box-sizing: border-box;padding-bottom: 0.4em;background-color: white;}#sk-container-id-2 div.sk-label label {font-family: monospace;font-weight: bold;display: inline-block;line-height: 1.2em;}#sk-container-id-2 div.sk-label-container {text-align: center;}#sk-container-id-2 div.sk-container {/* jupyter's `normalize.less` sets `[hidden] { display: none; }` but bootstrap.min.css set `[hidden] { display: none !important; }` so we also need the `!important` here to be able to override the default hidden behavior on the sphinx rendered scikit-learn.org. See: https://github.com/scikit-learn/scikit-learn/issues/21755 */display: inline-block !important;position: relative;}#sk-container-id-2 div.sk-text-repr-fallback {display: none;}</style><div id=\"sk-container-id-2\" class=\"sk-top-container\"><div class=\"sk-text-repr-fallback\"><pre>Ntree_RF_Regressor()</pre><b>In a Jupyter environment, please rerun this cell to show the HTML representation or trust the notebook. <br />On GitHub, the HTML representation is unable to render, please try loading this page with nbviewer.org.</b></div><div class=\"sk-container\" hidden><div class=\"sk-item\"><div class=\"sk-estimator sk-toggleable\"><input class=\"sk-toggleable__control sk-hidden--visually\" id=\"sk-estimator-id-2\" type=\"checkbox\" checked><label for=\"sk-estimator-id-2\" class=\"sk-toggleable__label sk-toggleable__label-arrow\">Ntree_RF_Regressor</label><div class=\"sk-toggleable__content\"><pre>Ntree_RF_Regressor()</pre></div></div></div></div></div>"
      ],
      "text/plain": [
       "Ntree_RF_Regressor()"
      ]
     },
     "execution_count": 8,
     "metadata": {},
     "output_type": "execute_result"
    }
   ],
   "source": [
    "Xreg, yreg = make_regression(n_samples=200, n_features=20)\n",
    "rf_reg = Ntree_RF_Regressor(n_estimators=100)\n",
    "rf_reg.fit(Xreg, yreg)"
   ]
  },
  {
   "cell_type": "code",
   "execution_count": 10,
   "metadata": {},
   "outputs": [
    {
     "name": "stderr",
     "output_type": "stream",
     "text": [
      "/Users/ariz/Documents/Hiwi/ntree_random_forests/src/tune_rf_ntree.py:98: UserWarning: Some inputs do not have OOB scores. This probably means too few trees were used to compute any reliable OOB estimates.\n",
      "  warn(\n",
      "/Users/ariz/Documents/Hiwi/ntree_random_forests/src/tune_rf_ntree.py:98: UserWarning: Some inputs do not have OOB scores. This probably means too few trees were used to compute any reliable OOB estimates.\n",
      "  warn(\n",
      "/Users/ariz/Documents/Hiwi/ntree_random_forests/src/tune_rf_ntree.py:98: UserWarning: Some inputs do not have OOB scores. This probably means too few trees were used to compute any reliable OOB estimates.\n",
      "  warn(\n",
      "/Users/ariz/Documents/Hiwi/ntree_random_forests/src/tune_rf_ntree.py:98: UserWarning: Some inputs do not have OOB scores. This probably means too few trees were used to compute any reliable OOB estimates.\n",
      "  warn(\n",
      "/Users/ariz/Documents/Hiwi/ntree_random_forests/src/tune_rf_ntree.py:98: UserWarning: Some inputs do not have OOB scores. This probably means too few trees were used to compute any reliable OOB estimates.\n",
      "  warn(\n",
      "/Users/ariz/Documents/Hiwi/ntree_random_forests/src/tune_rf_ntree.py:98: UserWarning: Some inputs do not have OOB scores. This probably means too few trees were used to compute any reliable OOB estimates.\n",
      "  warn(\n",
      "/Users/ariz/Documents/Hiwi/ntree_random_forests/src/tune_rf_ntree.py:98: UserWarning: Some inputs do not have OOB scores. This probably means too few trees were used to compute any reliable OOB estimates.\n",
      "  warn(\n",
      "/Users/ariz/Documents/Hiwi/ntree_random_forests/src/tune_rf_ntree.py:98: UserWarning: Some inputs do not have OOB scores. This probably means too few trees were used to compute any reliable OOB estimates.\n",
      "  warn(\n",
      "/Users/ariz/Documents/Hiwi/ntree_random_forests/src/tune_rf_ntree.py:98: UserWarning: Some inputs do not have OOB scores. This probably means too few trees were used to compute any reliable OOB estimates.\n",
      "  warn(\n",
      "/Users/ariz/Documents/Hiwi/ntree_random_forests/src/tune_rf_ntree.py:98: UserWarning: Some inputs do not have OOB scores. This probably means too few trees were used to compute any reliable OOB estimates.\n",
      "  warn(\n",
      "/Users/ariz/Documents/Hiwi/ntree_random_forests/src/tune_rf_ntree.py:98: UserWarning: Some inputs do not have OOB scores. This probably means too few trees were used to compute any reliable OOB estimates.\n",
      "  warn(\n"
     ]
    },
    {
     "data": {
      "text/plain": [
       "{1: 14275.723668792118,\n",
       " 2: 22076.133168248707,\n",
       " 3: 29495.632216257338,\n",
       " 4: 31712.14149032425,\n",
       " 5: 29689.45182717849,\n",
       " 6: 27281.70814504375,\n",
       " 7: 26131.47182185756,\n",
       " 8: 25310.660668968085,\n",
       " 9: 25817.534512235157,\n",
       " 10: 25207.495184868072,\n",
       " 11: 25464.860224024043,\n",
       " 12: 24012.70688398512,\n",
       " 13: 23616.038584390495,\n",
       " 14: 22797.588422706045,\n",
       " 15: 22408.13010817606,\n",
       " 16: 21895.00915069728,\n",
       " 17: 21639.12928738598,\n",
       " 18: 20106.600082155353,\n",
       " 19: 20572.591443780002,\n",
       " 20: 20284.45061233933,\n",
       " 21: 20650.001448851483,\n",
       " 22: 20432.582654337282,\n",
       " 23: 20093.285728882543,\n",
       " 24: 20013.138947129934,\n",
       " 25: 19485.56419225974,\n",
       " 26: 19674.228828966545,\n",
       " 27: 19650.81865102522,\n",
       " 28: 19449.632278983154,\n",
       " 29: 18822.363030055818,\n",
       " 30: 18894.547468725526,\n",
       " 31: 19174.959666032853,\n",
       " 32: 18997.133231671512,\n",
       " 33: 18627.40613106596,\n",
       " 34: 18369.98727608504,\n",
       " 35: 18136.250874900936,\n",
       " 36: 18118.534468509857,\n",
       " 37: 18016.61906768231,\n",
       " 38: 18009.019638274443,\n",
       " 39: 17822.852354411738,\n",
       " 40: 17796.00862566797,\n",
       " 41: 17907.97747282943,\n",
       " 42: 17738.37840254593,\n",
       " 43: 17924.660131820376,\n",
       " 44: 17906.64724078719,\n",
       " 45: 17924.00530265972,\n",
       " 46: 18030.08805978842,\n",
       " 47: 18076.601054790426,\n",
       " 48: 18169.262123268676,\n",
       " 49: 17961.453366516213,\n",
       " 50: 17920.608772559473,\n",
       " 51: 17828.707548797956,\n",
       " 52: 17667.09765184006,\n",
       " 53: 17700.845108495138,\n",
       " 54: 17690.707688306113,\n",
       " 55: 17741.279887728644,\n",
       " 56: 17589.433055176105,\n",
       " 57: 17512.427404642476,\n",
       " 58: 17510.569145090572,\n",
       " 59: 17456.317912558992,\n",
       " 60: 17284.540188267343}"
      ]
     },
     "execution_count": 10,
     "metadata": {},
     "output_type": "execute_result"
    }
   ],
   "source": [
    "max_trees = 60\n",
    "tune_ntree_rf(rf_reg, max_trees, Xcls, ycls)"
   ]
  }
 ],
 "metadata": {
  "kernelspec": {
   "display_name": "ifo_tasks",
   "language": "python",
   "name": "python3"
  },
  "language_info": {
   "codemirror_mode": {
    "name": "ipython",
    "version": 3
   },
   "file_extension": ".py",
   "mimetype": "text/x-python",
   "name": "python",
   "nbconvert_exporter": "python",
   "pygments_lexer": "ipython3",
   "version": "3.11.3"
  }
 },
 "nbformat": 4,
 "nbformat_minor": 2
}
